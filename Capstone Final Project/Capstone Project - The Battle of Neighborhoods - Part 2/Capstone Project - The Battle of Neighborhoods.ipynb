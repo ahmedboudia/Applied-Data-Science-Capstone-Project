{
 "cells": [
  {
   "cell_type": "markdown",
   "metadata": {},
   "source": [
    "## Import "
   ]
  },
  {
   "cell_type": "code",
   "execution_count": 1,
   "metadata": {},
   "outputs": [
    {
     "name": "stdout",
     "output_type": "stream",
     "text": [
      "Waiting for a Spark session to start...\n",
      "Spark Initialization Done! ApplicationId = app-20200430132957-0001\n",
      "KERNEL_ID = 5d74505b-9279-4dd4-b0bd-21e158e22802\n"
     ]
    }
   ],
   "source": [
    "from bs4 import BeautifulSoup\n",
    "import requests\n",
    "import pandas as pd\n",
    "import geocoder\n",
    "\n",
    "import numpy as np # library to handle data in a vectorized manner\n",
    "\n",
    "import pandas as pd # library for data analsysis\n",
    "pd.set_option('display.max_columns', None)\n",
    "pd.set_option('display.max_rows', None)\n",
    "\n",
    "import json # library to handle JSON files\n",
    "\n",
    "#!conda install -c conda-forge geopy --yes # uncomment this line if you haven't completed the Foursquare API lab\n",
    "from geopy.geocoders import Nominatim # convert an address into latitude and longitude values\n",
    "\n",
    "import requests # library to handle requests\n",
    "from pandas.io.json import json_normalize # tranform JSON file into a pandas dataframe\n",
    "\n",
    "# Matplotlib and associated plotting modules\n",
    "import matplotlib.pyplot as plt\n",
    "import matplotlib.cm as cm\n",
    "import matplotlib.colors as colors\n",
    "\n",
    "# import k-means from clustering stage\n",
    "from sklearn.cluster import KMeans\n",
    "\n",
    "import folium # map rendering library"
   ]
  },
  {
   "cell_type": "markdown",
   "metadata": {},
   "source": [
    "## First, we're going to download the NY dataset"
   ]
  },
  {
   "cell_type": "code",
   "execution_count": 2,
   "metadata": {},
   "outputs": [
    {
     "name": "stdout",
     "output_type": "stream",
     "text": [
      "Data downloaded!\n"
     ]
    }
   ],
   "source": [
    "!wget -q -O 'newyork_data.json' https://cocl.us/new_york_dataset\n",
    "print('Data downloaded!')"
   ]
  },
  {
   "cell_type": "code",
   "execution_count": 3,
   "metadata": {},
   "outputs": [],
   "source": [
    "with open('newyork_data.json') as json_data:\n",
    "    newyork_data = json.load(json_data)"
   ]
  },
  {
   "cell_type": "code",
   "execution_count": 5,
   "metadata": {},
   "outputs": [],
   "source": [
    "#newyork_data"
   ]
  },
  {
   "cell_type": "markdown",
   "metadata": {},
   "source": [
    "We only want the feature key information"
   ]
  },
  {
   "cell_type": "code",
   "execution_count": 6,
   "metadata": {},
   "outputs": [],
   "source": [
    "neighborhoods_data = newyork_data['features']"
   ]
  },
  {
   "cell_type": "code",
   "execution_count": 7,
   "metadata": {},
   "outputs": [],
   "source": [
    "# define the dataframe columns\n",
    "column_names = ['Borough', 'Neighborhood', 'Latitude', 'Longitude'] \n",
    "\n",
    "# instantiate the dataframe\n",
    "NY_neighborhoods = pd.DataFrame(columns=column_names)\n",
    "\n",
    "for data in neighborhoods_data:\n",
    "    borough = neighborhood_name = data['properties']['borough'] \n",
    "    neighborhood_name = data['properties']['name']\n",
    "        \n",
    "    neighborhood_latlon = data['geometry']['coordinates']\n",
    "    neighborhood_lat = neighborhood_latlon[1]\n",
    "    neighborhood_lon = neighborhood_latlon[0]\n",
    "    \n",
    "    NY_neighborhoods = NY_neighborhoods.append({'Borough': borough,\n",
    "                                          'Neighborhood': neighborhood_name,\n",
    "                                          'Latitude': neighborhood_lat,\n",
    "                                          'Longitude': neighborhood_lon}, ignore_index=True)"
   ]
  },
  {
   "cell_type": "code",
   "execution_count": 8,
   "metadata": {},
   "outputs": [
    {
     "data": {
      "text/html": [
       "<div>\n",
       "<style scoped>\n",
       "    .dataframe tbody tr th:only-of-type {\n",
       "        vertical-align: middle;\n",
       "    }\n",
       "\n",
       "    .dataframe tbody tr th {\n",
       "        vertical-align: top;\n",
       "    }\n",
       "\n",
       "    .dataframe thead th {\n",
       "        text-align: right;\n",
       "    }\n",
       "</style>\n",
       "<table border=\"1\" class=\"dataframe\">\n",
       "  <thead>\n",
       "    <tr style=\"text-align: right;\">\n",
       "      <th></th>\n",
       "      <th>Borough</th>\n",
       "      <th>Neighborhood</th>\n",
       "      <th>Latitude</th>\n",
       "      <th>Longitude</th>\n",
       "    </tr>\n",
       "  </thead>\n",
       "  <tbody>\n",
       "    <tr>\n",
       "      <th>0</th>\n",
       "      <td>Bronx</td>\n",
       "      <td>Wakefield</td>\n",
       "      <td>40.894705</td>\n",
       "      <td>-73.847201</td>\n",
       "    </tr>\n",
       "    <tr>\n",
       "      <th>1</th>\n",
       "      <td>Bronx</td>\n",
       "      <td>Co-op City</td>\n",
       "      <td>40.874294</td>\n",
       "      <td>-73.829939</td>\n",
       "    </tr>\n",
       "    <tr>\n",
       "      <th>2</th>\n",
       "      <td>Bronx</td>\n",
       "      <td>Eastchester</td>\n",
       "      <td>40.887556</td>\n",
       "      <td>-73.827806</td>\n",
       "    </tr>\n",
       "    <tr>\n",
       "      <th>3</th>\n",
       "      <td>Bronx</td>\n",
       "      <td>Fieldston</td>\n",
       "      <td>40.895437</td>\n",
       "      <td>-73.905643</td>\n",
       "    </tr>\n",
       "    <tr>\n",
       "      <th>4</th>\n",
       "      <td>Bronx</td>\n",
       "      <td>Riverdale</td>\n",
       "      <td>40.890834</td>\n",
       "      <td>-73.912585</td>\n",
       "    </tr>\n",
       "  </tbody>\n",
       "</table>\n",
       "</div>"
      ],
      "text/plain": [
       "  Borough Neighborhood   Latitude  Longitude\n",
       "0   Bronx    Wakefield  40.894705 -73.847201\n",
       "1   Bronx   Co-op City  40.874294 -73.829939\n",
       "2   Bronx  Eastchester  40.887556 -73.827806\n",
       "3   Bronx    Fieldston  40.895437 -73.905643\n",
       "4   Bronx    Riverdale  40.890834 -73.912585"
      ]
     },
     "execution_count": 8,
     "metadata": {},
     "output_type": "execute_result"
    }
   ],
   "source": [
    "NY_neighborhoods.head()"
   ]
  },
  {
   "cell_type": "code",
   "execution_count": 9,
   "metadata": {},
   "outputs": [
    {
     "data": {
      "text/plain": [
       "(306, 4)"
      ]
     },
     "execution_count": 9,
     "metadata": {},
     "output_type": "execute_result"
    }
   ],
   "source": [
    "NY_neighborhoods.shape"
   ]
  },
  {
   "cell_type": "markdown",
   "metadata": {},
   "source": [
    "## Let's analyse Japanese restaurant for each neighborhood of NY"
   ]
  },
  {
   "cell_type": "markdown",
   "metadata": {},
   "source": [
    "### Credentials"
   ]
  },
  {
   "cell_type": "code",
   "execution_count": 10,
   "metadata": {},
   "outputs": [
    {
     "name": "stdout",
     "output_type": "stream",
     "text": [
      "Your credentails:\n",
      "CLIENT_ID: LM2L4D5Z4ATYHUCOTUA5TC3R0Q5PUT3N2YGELGYTS4KMDZDJ\n",
      "CLIENT_SECRET:K40PSAKDDYP5FVBJY0XAIQG0M5OZXDZI0Y24EHNMTWKMSGUF\n"
     ]
    }
   ],
   "source": [
    "CLIENT_ID = 'LM2L4D5Z4ATYHUCOTUA5TC3R0Q5PUT3N2YGELGYTS4KMDZDJ' # your Foursquare ID\n",
    "CLIENT_SECRET = 'K40PSAKDDYP5FVBJY0XAIQG0M5OZXDZI0Y24EHNMTWKMSGUF' # your Foursquare Secret\n",
    "VERSION = '20203004' # Foursquare API version\n",
    "\n",
    "print('Your credentails:')\n",
    "print('CLIENT_ID: ' + CLIENT_ID)\n",
    "print('CLIENT_SECRET:' + CLIENT_SECRET)"
   ]
  },
  {
   "cell_type": "markdown",
   "metadata": {},
   "source": [
    "### Get venues equal to 'Japanese Restaurant'"
   ]
  },
  {
   "cell_type": "markdown",
   "metadata": {},
   "source": [
    "Define function to get venues"
   ]
  },
  {
   "cell_type": "code",
   "execution_count": 11,
   "metadata": {},
   "outputs": [],
   "source": [
    "def get_venues(lat,lng):\n",
    "    \n",
    "    #set variables\n",
    "    radius=1000\n",
    "    LIMIT=100\n",
    "\n",
    "    #url to fetch data from foursquare api\n",
    "    url = 'https://api.foursquare.com/v2/venues/explore?&client_id={}&client_secret={}&v={}&ll={},{}&radius={}&limit={}'.format(\n",
    "            CLIENT_ID, \n",
    "            CLIENT_SECRET, \n",
    "            VERSION, \n",
    "            lat, \n",
    "            lng, \n",
    "            radius, \n",
    "            LIMIT)\n",
    "    \n",
    "    # get all the data\n",
    "    results = requests.get(url).json()\n",
    "    venue_data=results[\"response\"]['groups'][0]['items']\n",
    "    venue_details=[]\n",
    "    for row in venue_data:\n",
    "        try:\n",
    "            venue_id=row['venue']['id']\n",
    "            venue_name=row['venue']['name']\n",
    "            venue_category=row['venue']['categories'][0]['name']\n",
    "            venue_details.append([venue_id,venue_name,venue_category])\n",
    "        except KeyError:\n",
    "            pass\n",
    "        \n",
    "    column_names=['ID','Name','Category']\n",
    "    df = pd.DataFrame(venue_details,columns=column_names)\n",
    "    return df"
   ]
  },
  {
   "cell_type": "code",
   "execution_count": 64,
   "metadata": {},
   "outputs": [],
   "source": [
    "japanese_restaurant_df=pd.DataFrame(columns=['Borough', 'Neighborhood', 'ID','Name'])\n",
    "count=1\n",
    "for row in NY_neighborhoods.values.tolist():\n",
    "    Borough, Neighborhood, Latitude, Longitude=row\n",
    "    venues = get_venues(Latitude,Longitude)\n",
    "    japanese_restaurant=venues[venues['Category']=='Japanese Restaurant']   \n",
    "    #print('(',count,'/',len(NY_neighborhoods),')','Japanese Resturants in '+Neighborhood+', '+Borough+':'+str(len(japanese_restaurant)))\n",
    "    for resturant_detail in japanese_restaurant.values.tolist():\n",
    "        id, name , category=resturant_detail\n",
    "        japanese_restaurant_df = japanese_restaurant_df.append({'Borough': Borough,\n",
    "                                                'Neighborhood': Neighborhood, \n",
    "                                                'ID': id,\n",
    "                                                'Name' : name\n",
    "                                               }, ignore_index=True)\n",
    "    count+=1"
   ]
  },
  {
   "cell_type": "code",
   "execution_count": 14,
   "metadata": {},
   "outputs": [
    {
     "data": {
      "text/plain": [
       "(183, 4)"
      ]
     },
     "execution_count": 14,
     "metadata": {},
     "output_type": "execute_result"
    }
   ],
   "source": [
    "japanese_restaurant_df.shape"
   ]
  },
  {
   "cell_type": "markdown",
   "metadata": {},
   "source": [
    "#### There is 183 japanese restaurants in New York."
   ]
  },
  {
   "cell_type": "code",
   "execution_count": 15,
   "metadata": {},
   "outputs": [
    {
     "data": {
      "text/html": [
       "<div>\n",
       "<style scoped>\n",
       "    .dataframe tbody tr th:only-of-type {\n",
       "        vertical-align: middle;\n",
       "    }\n",
       "\n",
       "    .dataframe tbody tr th {\n",
       "        vertical-align: top;\n",
       "    }\n",
       "\n",
       "    .dataframe thead th {\n",
       "        text-align: right;\n",
       "    }\n",
       "</style>\n",
       "<table border=\"1\" class=\"dataframe\">\n",
       "  <thead>\n",
       "    <tr style=\"text-align: right;\">\n",
       "      <th></th>\n",
       "      <th>Borough</th>\n",
       "      <th>Neighborhood</th>\n",
       "      <th>ID</th>\n",
       "      <th>Name</th>\n",
       "    </tr>\n",
       "  </thead>\n",
       "  <tbody>\n",
       "    <tr>\n",
       "      <th>0</th>\n",
       "      <td>Bronx</td>\n",
       "      <td>Riverdale</td>\n",
       "      <td>503cfaffe4b066d39de5005a</td>\n",
       "      <td>Aoyu Japanese Restaurant</td>\n",
       "    </tr>\n",
       "    <tr>\n",
       "      <th>1</th>\n",
       "      <td>Bronx</td>\n",
       "      <td>Riverdale</td>\n",
       "      <td>4b0b311af964a520642e23e3</td>\n",
       "      <td>Palace of Japan</td>\n",
       "    </tr>\n",
       "    <tr>\n",
       "      <th>2</th>\n",
       "      <td>Bronx</td>\n",
       "      <td>Kingsbridge</td>\n",
       "      <td>503cfaffe4b066d39de5005a</td>\n",
       "      <td>Aoyu Japanese Restaurant</td>\n",
       "    </tr>\n",
       "    <tr>\n",
       "      <th>3</th>\n",
       "      <td>Bronx</td>\n",
       "      <td>Kingsbridge</td>\n",
       "      <td>4b0b311af964a520642e23e3</td>\n",
       "      <td>Palace of Japan</td>\n",
       "    </tr>\n",
       "    <tr>\n",
       "      <th>4</th>\n",
       "      <td>Bronx</td>\n",
       "      <td>City Island</td>\n",
       "      <td>4dbdf3d790a02849cbd675be</td>\n",
       "      <td>Ohana Japanese Habachi Seafood &amp; Steakhouse</td>\n",
       "    </tr>\n",
       "  </tbody>\n",
       "</table>\n",
       "</div>"
      ],
      "text/plain": [
       "  Borough Neighborhood                        ID  \\\n",
       "0   Bronx    Riverdale  503cfaffe4b066d39de5005a   \n",
       "1   Bronx    Riverdale  4b0b311af964a520642e23e3   \n",
       "2   Bronx  Kingsbridge  503cfaffe4b066d39de5005a   \n",
       "3   Bronx  Kingsbridge  4b0b311af964a520642e23e3   \n",
       "4   Bronx  City Island  4dbdf3d790a02849cbd675be   \n",
       "\n",
       "                                          Name  \n",
       "0                     Aoyu Japanese Restaurant  \n",
       "1                              Palace of Japan  \n",
       "2                     Aoyu Japanese Restaurant  \n",
       "3                              Palace of Japan  \n",
       "4  Ohana Japanese Habachi Seafood & Steakhouse  "
      ]
     },
     "execution_count": 15,
     "metadata": {},
     "output_type": "execute_result"
    }
   ],
   "source": [
    "japanese_restaurant_df.head()"
   ]
  },
  {
   "cell_type": "code",
   "execution_count": 75,
   "metadata": {},
   "outputs": [
    {
     "data": {
      "image/png": "[encoded data removed]",
      "text/plain": [
       "<Figure size 720x360 with 1 Axes>"
      ]
     },
     "metadata": {
      "needs_background": "light"
     },
     "output_type": "display_data"
    }
   ],
   "source": [
    "plt.figure(figsize=(10,5))\n",
    "plt.title('Number of Japaneese Resturants for each Borough in New York City')\n",
    "plt.xlabel('Borough', fontsize = 15)\n",
    "plt.ylabel('No.of Japanese Resturants', fontsize=15)\n",
    "japanese_restaurant_df.groupby('Borough')['ID'].count().plot(kind='bar')\n",
    "plt.show()"
   ]
  },
  {
   "cell_type": "markdown",
   "metadata": {},
   "source": [
    "#### The borough with the most of Japanese Restaurant is the Bronx"
   ]
  },
  {
   "cell_type": "code",
   "execution_count": 17,
   "metadata": {},
   "outputs": [
    {
     "data": {
      "image/png": "[encoded data removed]",
      "text/plain": [
       "<Figure size 720x360 with 1 Axes>"
      ]
     },
     "metadata": {
      "needs_background": "light"
     },
     "output_type": "display_data"
    }
   ],
   "source": [
    "plt.figure(figsize=(10,5))\n",
    "plt.title('Number of Japaneese Resturants for each Neighborhood in New York City')\n",
    "plt.xlabel('Neighborhood', fontsize = 15)\n",
    "plt.ylabel('No.of Japanese Resturants', fontsize=15)\n",
    "japanese_restaurant_df.groupby('Neighborhood')['Borough'].count().nlargest(5).plot(kind='bar')\n",
    "plt.show()"
   ]
  },
  {
   "cell_type": "markdown",
   "metadata": {},
   "source": [
    "#### The neighborhood with the most of  japanese restaurants seems to be Murray Hill"
   ]
  },
  {
   "cell_type": "code",
   "execution_count": 18,
   "metadata": {},
   "outputs": [
    {
     "data": {
      "text/html": [
       "<div>\n",
       "<style scoped>\n",
       "    .dataframe tbody tr th:only-of-type {\n",
       "        vertical-align: middle;\n",
       "    }\n",
       "\n",
       "    .dataframe tbody tr th {\n",
       "        vertical-align: top;\n",
       "    }\n",
       "\n",
       "    .dataframe thead th {\n",
       "        text-align: right;\n",
       "    }\n",
       "</style>\n",
       "<table border=\"1\" class=\"dataframe\">\n",
       "  <thead>\n",
       "    <tr style=\"text-align: right;\">\n",
       "      <th></th>\n",
       "      <th>Borough</th>\n",
       "      <th>Neighborhood</th>\n",
       "      <th>ID</th>\n",
       "      <th>Name</th>\n",
       "    </tr>\n",
       "  </thead>\n",
       "  <tbody>\n",
       "    <tr>\n",
       "      <th>77</th>\n",
       "      <td>Manhattan</td>\n",
       "      <td>Murray Hill</td>\n",
       "      <td>4a99b4f4f964a520f62f20e3</td>\n",
       "      <td>Kajitsu</td>\n",
       "    </tr>\n",
       "    <tr>\n",
       "      <th>78</th>\n",
       "      <td>Manhattan</td>\n",
       "      <td>Murray Hill</td>\n",
       "      <td>540dc46d498e86f0e5059dd2</td>\n",
       "      <td>Zuma New York</td>\n",
       "    </tr>\n",
       "    <tr>\n",
       "      <th>79</th>\n",
       "      <td>Manhattan</td>\n",
       "      <td>Murray Hill</td>\n",
       "      <td>591caee89deb7d0f69be77a2</td>\n",
       "      <td>Omusubi Gonbei</td>\n",
       "    </tr>\n",
       "    <tr>\n",
       "      <th>80</th>\n",
       "      <td>Manhattan</td>\n",
       "      <td>Murray Hill</td>\n",
       "      <td>48c50c4bf964a520dc511fe3</td>\n",
       "      <td>Café Zaiya</td>\n",
       "    </tr>\n",
       "    <tr>\n",
       "      <th>81</th>\n",
       "      <td>Manhattan</td>\n",
       "      <td>Murray Hill</td>\n",
       "      <td>49db8b67f964a520d85e1fe3</td>\n",
       "      <td>Aburiya Kinnosuke</td>\n",
       "    </tr>\n",
       "    <tr>\n",
       "      <th>82</th>\n",
       "      <td>Manhattan</td>\n",
       "      <td>Murray Hill</td>\n",
       "      <td>51e8ce40498ea1fb0180efb2</td>\n",
       "      <td>Izakaya MEW</td>\n",
       "    </tr>\n",
       "    <tr>\n",
       "      <th>116</th>\n",
       "      <td>Queens</td>\n",
       "      <td>Murray Hill</td>\n",
       "      <td>4bc8eee83740b713fcbe5d65</td>\n",
       "      <td>Northern Sushi</td>\n",
       "    </tr>\n",
       "    <tr>\n",
       "      <th>117</th>\n",
       "      <td>Queens</td>\n",
       "      <td>Murray Hill</td>\n",
       "      <td>5cf07afa66f3cd002c8b3ae6</td>\n",
       "      <td>Izakaya Mew</td>\n",
       "    </tr>\n",
       "  </tbody>\n",
       "</table>\n",
       "</div>"
      ],
      "text/plain": [
       "       Borough Neighborhood                        ID               Name\n",
       "77   Manhattan  Murray Hill  4a99b4f4f964a520f62f20e3            Kajitsu\n",
       "78   Manhattan  Murray Hill  540dc46d498e86f0e5059dd2      Zuma New York\n",
       "79   Manhattan  Murray Hill  591caee89deb7d0f69be77a2     Omusubi Gonbei\n",
       "80   Manhattan  Murray Hill  48c50c4bf964a520dc511fe3         Café Zaiya\n",
       "81   Manhattan  Murray Hill  49db8b67f964a520d85e1fe3  Aburiya Kinnosuke\n",
       "82   Manhattan  Murray Hill  51e8ce40498ea1fb0180efb2        Izakaya MEW\n",
       "116     Queens  Murray Hill  4bc8eee83740b713fcbe5d65     Northern Sushi\n",
       "117     Queens  Murray Hill  5cf07afa66f3cd002c8b3ae6        Izakaya Mew"
      ]
     },
     "execution_count": 18,
     "metadata": {},
     "output_type": "execute_result"
    }
   ],
   "source": [
    "japanese_restaurant_df[japanese_restaurant_df['Neighborhood']=='Murray Hill']"
   ]
  },
  {
   "cell_type": "markdown",
   "metadata": {},
   "source": [
    "#### But in fact here we can see that there is two neighborhood with the same name but from different borough, so let's pre-process our data to overcome this problem."
   ]
  },
  {
   "cell_type": "markdown",
   "metadata": {},
   "source": [
    "We rename 'Murray Hill' from 'Queens' borough 'Murray Hill, Queens' in the 'Neighborhood column."
   ]
  },
  {
   "cell_type": "code",
   "execution_count": 63,
   "metadata": {},
   "outputs": [],
   "source": [
    "japanese_restaurant_df.loc[(japanese_restaurant_df.Borough == 'Queens')&(japanese_restaurant_df.Neighborhood == 'Murray Hill'),'Neighborhood'] = \"Murray Hill, Queens\""
   ]
  },
  {
   "cell_type": "code",
   "execution_count": 20,
   "metadata": {},
   "outputs": [
    {
     "data": {
      "image/png": "[encoded data removed]",
      "text/plain": [
       "<Figure size 720x360 with 1 Axes>"
      ]
     },
     "metadata": {
      "needs_background": "light"
     },
     "output_type": "display_data"
    }
   ],
   "source": [
    "plt.figure(figsize=(10,5))\n",
    "plt.title('Number of Japaneese Resturants for each Neighborhood in New York City')\n",
    "plt.xlabel('Neighborhood', fontsize = 15)\n",
    "plt.ylabel('No.of Japanese Resturants', fontsize=15)\n",
    "japanese_restaurant_df.groupby('Neighborhood')['Borough'].count().nlargest(5).plot(kind='bar')\n",
    "plt.show()"
   ]
  },
  {
   "cell_type": "code",
   "execution_count": 21,
   "metadata": {},
   "outputs": [
    {
     "data": {
      "text/html": [
       "<div>\n",
       "<style scoped>\n",
       "    .dataframe tbody tr th:only-of-type {\n",
       "        vertical-align: middle;\n",
       "    }\n",
       "\n",
       "    .dataframe tbody tr th {\n",
       "        vertical-align: top;\n",
       "    }\n",
       "\n",
       "    .dataframe thead th {\n",
       "        text-align: right;\n",
       "    }\n",
       "</style>\n",
       "<table border=\"1\" class=\"dataframe\">\n",
       "  <thead>\n",
       "    <tr style=\"text-align: right;\">\n",
       "      <th></th>\n",
       "      <th>Borough</th>\n",
       "      <th>Neighborhood</th>\n",
       "      <th>ID</th>\n",
       "      <th>Name</th>\n",
       "    </tr>\n",
       "  </thead>\n",
       "  <tbody>\n",
       "    <tr>\n",
       "      <th>36</th>\n",
       "      <td>Brooklyn</td>\n",
       "      <td>Bath Beach</td>\n",
       "      <td>51f42bb3498e2681264e00a1</td>\n",
       "      <td>Kasumi Sushi &amp; BBQ Restaurant</td>\n",
       "    </tr>\n",
       "    <tr>\n",
       "      <th>37</th>\n",
       "      <td>Brooklyn</td>\n",
       "      <td>Bath Beach</td>\n",
       "      <td>4b787863f964a52080d02ee3</td>\n",
       "      <td>Shiki Japanese Hibachi</td>\n",
       "    </tr>\n",
       "    <tr>\n",
       "      <th>38</th>\n",
       "      <td>Brooklyn</td>\n",
       "      <td>Bath Beach</td>\n",
       "      <td>4c326b9fa0ced13ac126156e</td>\n",
       "      <td>Ichi Sushi</td>\n",
       "    </tr>\n",
       "    <tr>\n",
       "      <th>39</th>\n",
       "      <td>Brooklyn</td>\n",
       "      <td>Bath Beach</td>\n",
       "      <td>513e7ec8e4b07f4fa1b53b3d</td>\n",
       "      <td>Fuki Sushi Japanese Restaurant</td>\n",
       "    </tr>\n",
       "    <tr>\n",
       "      <th>40</th>\n",
       "      <td>Brooklyn</td>\n",
       "      <td>Bath Beach</td>\n",
       "      <td>4bad45c9f964a52089403be3</td>\n",
       "      <td>Chikurin</td>\n",
       "    </tr>\n",
       "    <tr>\n",
       "      <th>77</th>\n",
       "      <td>Manhattan</td>\n",
       "      <td>Murray Hill</td>\n",
       "      <td>4a99b4f4f964a520f62f20e3</td>\n",
       "      <td>Kajitsu</td>\n",
       "    </tr>\n",
       "    <tr>\n",
       "      <th>78</th>\n",
       "      <td>Manhattan</td>\n",
       "      <td>Murray Hill</td>\n",
       "      <td>540dc46d498e86f0e5059dd2</td>\n",
       "      <td>Zuma New York</td>\n",
       "    </tr>\n",
       "    <tr>\n",
       "      <th>79</th>\n",
       "      <td>Manhattan</td>\n",
       "      <td>Murray Hill</td>\n",
       "      <td>591caee89deb7d0f69be77a2</td>\n",
       "      <td>Omusubi Gonbei</td>\n",
       "    </tr>\n",
       "    <tr>\n",
       "      <th>80</th>\n",
       "      <td>Manhattan</td>\n",
       "      <td>Murray Hill</td>\n",
       "      <td>48c50c4bf964a520dc511fe3</td>\n",
       "      <td>Café Zaiya</td>\n",
       "    </tr>\n",
       "    <tr>\n",
       "      <th>81</th>\n",
       "      <td>Manhattan</td>\n",
       "      <td>Murray Hill</td>\n",
       "      <td>49db8b67f964a520d85e1fe3</td>\n",
       "      <td>Aburiya Kinnosuke</td>\n",
       "    </tr>\n",
       "    <tr>\n",
       "      <th>82</th>\n",
       "      <td>Manhattan</td>\n",
       "      <td>Murray Hill</td>\n",
       "      <td>51e8ce40498ea1fb0180efb2</td>\n",
       "      <td>Izakaya MEW</td>\n",
       "    </tr>\n",
       "  </tbody>\n",
       "</table>\n",
       "</div>"
      ],
      "text/plain": [
       "      Borough Neighborhood                        ID  \\\n",
       "36   Brooklyn   Bath Beach  51f42bb3498e2681264e00a1   \n",
       "37   Brooklyn   Bath Beach  4b787863f964a52080d02ee3   \n",
       "38   Brooklyn   Bath Beach  4c326b9fa0ced13ac126156e   \n",
       "39   Brooklyn   Bath Beach  513e7ec8e4b07f4fa1b53b3d   \n",
       "40   Brooklyn   Bath Beach  4bad45c9f964a52089403be3   \n",
       "77  Manhattan  Murray Hill  4a99b4f4f964a520f62f20e3   \n",
       "78  Manhattan  Murray Hill  540dc46d498e86f0e5059dd2   \n",
       "79  Manhattan  Murray Hill  591caee89deb7d0f69be77a2   \n",
       "80  Manhattan  Murray Hill  48c50c4bf964a520dc511fe3   \n",
       "81  Manhattan  Murray Hill  49db8b67f964a520d85e1fe3   \n",
       "82  Manhattan  Murray Hill  51e8ce40498ea1fb0180efb2   \n",
       "\n",
       "                              Name  \n",
       "36   Kasumi Sushi & BBQ Restaurant  \n",
       "37          Shiki Japanese Hibachi  \n",
       "38                      Ichi Sushi  \n",
       "39  Fuki Sushi Japanese Restaurant  \n",
       "40                        Chikurin  \n",
       "77                         Kajitsu  \n",
       "78                   Zuma New York  \n",
       "79                  Omusubi Gonbei  \n",
       "80                      Café Zaiya  \n",
       "81               Aburiya Kinnosuke  \n",
       "82                     Izakaya MEW  "
      ]
     },
     "execution_count": 21,
     "metadata": {},
     "output_type": "execute_result"
    }
   ],
   "source": [
    "japanese_restaurant_df[(japanese_restaurant_df['Neighborhood']=='Murray Hill') | (japanese_restaurant_df['Neighborhood']=='Bath Beach')]"
   ]
  },
  {
   "cell_type": "markdown",
   "metadata": {},
   "source": [
    "#### The neighborhood with the most of japanese restaurant is indeed Murray Hill in Manhattan. The second one is Bath Beach located in Brooklyn which is the borough with the most of japaneese restaurant."
   ]
  },
  {
   "cell_type": "markdown",
   "metadata": {},
   "source": [
    "Let's define a function to get venues details like tips or ratings."
   ]
  },
  {
   "cell_type": "code",
   "execution_count": 22,
   "metadata": {},
   "outputs": [],
   "source": [
    "def get_venue_details(venue_id):\n",
    "    \n",
    "    #url to fetch data from foursquare api\n",
    "    url = 'https://api.foursquare.com/v2/venues/{}?&client_id={}&client_secret={}&v={}'.format(\n",
    "            venue_id,\n",
    "            CLIENT_ID, \n",
    "            CLIENT_SECRET, \n",
    "            VERSION)\n",
    "    \n",
    "    # get all the data\n",
    "    results = requests.get(url).json()\n",
    "    venue_data=results['response']['venue']\n",
    "    venue_details=[]\n",
    "    try:\n",
    "        venue_id=venue_data['id']\n",
    "        venue_name=venue_data['name']\n",
    "        venue_likes=venue_data['likes']['count']\n",
    "        venue_rating=venue_data['rating']\n",
    "        venue_tips=venue_data['tips']['count']\n",
    "        venue_details.append([venue_id,venue_name,venue_likes,venue_rating,venue_tips])\n",
    "    except KeyError:\n",
    "        pass\n",
    "        \n",
    "    column_names=['ID','Name','Likes','Rating','Tips']\n",
    "    df = pd.DataFrame(venue_details,columns=column_names)\n",
    "    return df"
   ]
  },
  {
   "cell_type": "code",
   "execution_count": 62,
   "metadata": {},
   "outputs": [],
   "source": [
    "jap_rates=pd.DataFrame(columns=['Borough', 'Neighborhood', 'ID','Name','Likes','Rating','Tips'])\n",
    "count=1\n",
    "\n",
    "\n",
    "for row in japanese_restaurant_df.values.tolist():\n",
    "    Borough,Neighborhood,ID,Name=row\n",
    "    try:\n",
    "        venue_details=get_venue_details(ID)\n",
    "        id,name,likes,rating,tips=venue_details.values.tolist()[0]\n",
    "    except IndexError:\n",
    "        id,name,likes,rating,tips=[0]*5\n",
    "    #print('(',count,'/',len(japanese_restaurant_df),')','processed')\n",
    "    jap_rates = jap_rates.append({'Borough': Borough,\n",
    "                                                'Neighborhood': Neighborhood, \n",
    "                                                'ID': id,\n",
    "                                                'Name' : name,\n",
    "                                                'Likes' : likes,\n",
    "                                                'Rating' : rating,\n",
    "                                                'Tips' : tips\n",
    "                                               }, ignore_index=True)\n",
    "    count+=1"
   ]
  },
  {
   "cell_type": "code",
   "execution_count": 25,
   "metadata": {
    "scrolled": true
   },
   "outputs": [
    {
     "data": {
      "text/html": [
       "<div>\n",
       "<style scoped>\n",
       "    .dataframe tbody tr th:only-of-type {\n",
       "        vertical-align: middle;\n",
       "    }\n",
       "\n",
       "    .dataframe tbody tr th {\n",
       "        vertical-align: top;\n",
       "    }\n",
       "\n",
       "    .dataframe thead th {\n",
       "        text-align: right;\n",
       "    }\n",
       "</style>\n",
       "<table border=\"1\" class=\"dataframe\">\n",
       "  <thead>\n",
       "    <tr style=\"text-align: right;\">\n",
       "      <th></th>\n",
       "      <th>Borough</th>\n",
       "      <th>Neighborhood</th>\n",
       "      <th>ID</th>\n",
       "      <th>Name</th>\n",
       "      <th>Likes</th>\n",
       "      <th>Rating</th>\n",
       "      <th>Tips</th>\n",
       "    </tr>\n",
       "  </thead>\n",
       "  <tbody>\n",
       "    <tr>\n",
       "      <th>0</th>\n",
       "      <td>Bronx</td>\n",
       "      <td>Riverdale</td>\n",
       "      <td>503cfaffe4b066d39de5005a</td>\n",
       "      <td>Aoyu Japanese Restaurant</td>\n",
       "      <td>32</td>\n",
       "      <td>8.8</td>\n",
       "      <td>19</td>\n",
       "    </tr>\n",
       "    <tr>\n",
       "      <th>1</th>\n",
       "      <td>Bronx</td>\n",
       "      <td>Riverdale</td>\n",
       "      <td>4b0b311af964a520642e23e3</td>\n",
       "      <td>Palace of Japan</td>\n",
       "      <td>38</td>\n",
       "      <td>8.6</td>\n",
       "      <td>26</td>\n",
       "    </tr>\n",
       "    <tr>\n",
       "      <th>2</th>\n",
       "      <td>Bronx</td>\n",
       "      <td>Kingsbridge</td>\n",
       "      <td>503cfaffe4b066d39de5005a</td>\n",
       "      <td>Aoyu Japanese Restaurant</td>\n",
       "      <td>32</td>\n",
       "      <td>8.8</td>\n",
       "      <td>19</td>\n",
       "    </tr>\n",
       "    <tr>\n",
       "      <th>3</th>\n",
       "      <td>Bronx</td>\n",
       "      <td>Kingsbridge</td>\n",
       "      <td>4b0b311af964a520642e23e3</td>\n",
       "      <td>Palace of Japan</td>\n",
       "      <td>38</td>\n",
       "      <td>8.6</td>\n",
       "      <td>26</td>\n",
       "    </tr>\n",
       "    <tr>\n",
       "      <th>4</th>\n",
       "      <td>Bronx</td>\n",
       "      <td>City Island</td>\n",
       "      <td>4dbdf3d790a02849cbd675be</td>\n",
       "      <td>Ohana Japanese Habachi Seafood &amp; Steakhouse</td>\n",
       "      <td>34</td>\n",
       "      <td>7.4</td>\n",
       "      <td>18</td>\n",
       "    </tr>\n",
       "  </tbody>\n",
       "</table>\n",
       "</div>"
      ],
      "text/plain": [
       "  Borough Neighborhood                        ID  \\\n",
       "0   Bronx    Riverdale  503cfaffe4b066d39de5005a   \n",
       "1   Bronx    Riverdale  4b0b311af964a520642e23e3   \n",
       "2   Bronx  Kingsbridge  503cfaffe4b066d39de5005a   \n",
       "3   Bronx  Kingsbridge  4b0b311af964a520642e23e3   \n",
       "4   Bronx  City Island  4dbdf3d790a02849cbd675be   \n",
       "\n",
       "                                          Name Likes  Rating Tips  \n",
       "0                     Aoyu Japanese Restaurant    32     8.8   19  \n",
       "1                              Palace of Japan    38     8.6   26  \n",
       "2                     Aoyu Japanese Restaurant    32     8.8   19  \n",
       "3                              Palace of Japan    38     8.6   26  \n",
       "4  Ohana Japanese Habachi Seafood & Steakhouse    34     7.4   18  "
      ]
     },
     "execution_count": 25,
     "metadata": {},
     "output_type": "execute_result"
    }
   ],
   "source": [
    "jap_rates.head()"
   ]
  },
  {
   "cell_type": "code",
   "execution_count": 26,
   "metadata": {},
   "outputs": [
    {
     "name": "stdout",
     "output_type": "stream",
     "text": [
      "<class 'pandas.core.frame.DataFrame'>\n",
      "RangeIndex: 183 entries, 0 to 182\n",
      "Data columns (total 7 columns):\n",
      "Borough         183 non-null object\n",
      "Neighborhood    183 non-null object\n",
      "ID              183 non-null object\n",
      "Name            183 non-null object\n",
      "Likes           183 non-null object\n",
      "Rating          183 non-null float64\n",
      "Tips            183 non-null object\n",
      "dtypes: float64(1), object(6)\n",
      "memory usage: 10.1+ KB\n"
     ]
    }
   ],
   "source": [
    "jap_rates.info()"
   ]
  },
  {
   "cell_type": "code",
   "execution_count": 30,
   "metadata": {},
   "outputs": [
    {
     "name": "stdout",
     "output_type": "stream",
     "text": [
      "<class 'pandas.core.frame.DataFrame'>\n",
      "RangeIndex: 183 entries, 0 to 182\n",
      "Data columns (total 7 columns):\n",
      "Borough         183 non-null object\n",
      "Neighborhood    183 non-null object\n",
      "ID              183 non-null object\n",
      "Name            183 non-null object\n",
      "Likes           183 non-null float64\n",
      "Rating          183 non-null float64\n",
      "Tips            183 non-null float64\n",
      "dtypes: float64(3), object(4)\n",
      "memory usage: 10.1+ KB\n"
     ]
    }
   ],
   "source": [
    "jap_rates['Likes']=jap_rates['Likes'].astype('float64')\n",
    "jap_rates['Tips']=jap_rates['Tips'].astype('float64')\n",
    "jap_rates.info()"
   ]
  },
  {
   "cell_type": "code",
   "execution_count": 33,
   "metadata": {},
   "outputs": [
    {
     "data": {
      "text/plain": [
       "Borough                        Manhattan\n",
       "Neighborhood                     Midtown\n",
       "ID              51e8ce40498ea1fb0180efb2\n",
       "Name                         Izakaya MEW\n",
       "Likes                               1055\n",
       "Rating                               8.8\n",
       "Tips                                 266\n",
       "Name: 76, dtype: object"
      ]
     },
     "execution_count": 33,
     "metadata": {},
     "output_type": "execute_result"
    }
   ],
   "source": [
    "jap_rates.iloc[jap_rates['Likes'].idxmax()]\n"
   ]
  },
  {
   "cell_type": "markdown",
   "metadata": {},
   "source": [
    "#### The restaurant with maximum likes is Izakaya MEW, in Midtown,Manhattan."
   ]
  },
  {
   "cell_type": "code",
   "execution_count": 35,
   "metadata": {},
   "outputs": [
    {
     "data": {
      "text/plain": [
       "Borough                         Brooklyn\n",
       "Neighborhood           East Williamsburg\n",
       "ID              52517e05498ec2e28c792fa2\n",
       "Name               Brooklyn Ball Factory\n",
       "Likes                                298\n",
       "Rating                               9.3\n",
       "Tips                                  89\n",
       "Name: 55, dtype: object"
      ]
     },
     "execution_count": 35,
     "metadata": {},
     "output_type": "execute_result"
    }
   ],
   "source": [
    "jap_rates.iloc[jap_rates['Rating'].idxmax()]\n"
   ]
  },
  {
   "cell_type": "markdown",
   "metadata": {},
   "source": [
    "#### The restaurant with top rating is Brooklynn Ball Factory, in East Williamsburg,Brooklyn."
   ]
  },
  {
   "cell_type": "code",
   "execution_count": 36,
   "metadata": {},
   "outputs": [
    {
     "data": {
      "text/plain": [
       "Borough                        Manhattan\n",
       "Neighborhood                     Midtown\n",
       "ID              51e8ce40498ea1fb0180efb2\n",
       "Name                         Izakaya MEW\n",
       "Likes                               1055\n",
       "Rating                               8.8\n",
       "Tips                                 266\n",
       "Name: 76, dtype: object"
      ]
     },
     "execution_count": 36,
     "metadata": {},
     "output_type": "execute_result"
    }
   ],
   "source": [
    "jap_rates.iloc[jap_rates['Tips'].idxmax()]\n"
   ]
  },
  {
   "cell_type": "markdown",
   "metadata": {},
   "source": [
    "#### The restaurant with maximum tips is Izakaya MEW, in Midtown,Manhattan."
   ]
  },
  {
   "cell_type": "code",
   "execution_count": 43,
   "metadata": {},
   "outputs": [],
   "source": [
    "bests_neighborhoods=jap_rates.groupby('Neighborhood',as_index=False).mean()[['Neighborhood','Rating']]\n",
    "bests_neighborhoods.columns=['Neighborhood','Average Rating']"
   ]
  },
  {
   "cell_type": "code",
   "execution_count": 44,
   "metadata": {},
   "outputs": [
    {
     "data": {
      "text/html": [
       "<div>\n",
       "<style scoped>\n",
       "    .dataframe tbody tr th:only-of-type {\n",
       "        vertical-align: middle;\n",
       "    }\n",
       "\n",
       "    .dataframe tbody tr th {\n",
       "        vertical-align: top;\n",
       "    }\n",
       "\n",
       "    .dataframe thead th {\n",
       "        text-align: right;\n",
       "    }\n",
       "</style>\n",
       "<table border=\"1\" class=\"dataframe\">\n",
       "  <thead>\n",
       "    <tr style=\"text-align: right;\">\n",
       "      <th></th>\n",
       "      <th>Neighborhood</th>\n",
       "      <th>Average Rating</th>\n",
       "    </tr>\n",
       "  </thead>\n",
       "  <tbody>\n",
       "    <tr>\n",
       "      <th>66</th>\n",
       "      <td>Lower East Side</td>\n",
       "      <td>9.200000</td>\n",
       "    </tr>\n",
       "    <tr>\n",
       "      <th>79</th>\n",
       "      <td>Noho</td>\n",
       "      <td>9.175000</td>\n",
       "    </tr>\n",
       "    <tr>\n",
       "      <th>28</th>\n",
       "      <td>East Village</td>\n",
       "      <td>9.125000</td>\n",
       "    </tr>\n",
       "    <tr>\n",
       "      <th>19</th>\n",
       "      <td>Cobble Hill</td>\n",
       "      <td>9.100000</td>\n",
       "    </tr>\n",
       "    <tr>\n",
       "      <th>33</th>\n",
       "      <td>Flatiron</td>\n",
       "      <td>9.033333</td>\n",
       "    </tr>\n",
       "    <tr>\n",
       "      <th>98</th>\n",
       "      <td>Stuyvesant Town</td>\n",
       "      <td>9.000000</td>\n",
       "    </tr>\n",
       "    <tr>\n",
       "      <th>48</th>\n",
       "      <td>Greenwich Village</td>\n",
       "      <td>9.000000</td>\n",
       "    </tr>\n",
       "    <tr>\n",
       "      <th>29</th>\n",
       "      <td>East Williamsburg</td>\n",
       "      <td>9.000000</td>\n",
       "    </tr>\n",
       "    <tr>\n",
       "      <th>43</th>\n",
       "      <td>Gramercy</td>\n",
       "      <td>8.900000</td>\n",
       "    </tr>\n",
       "    <tr>\n",
       "      <th>80</th>\n",
       "      <td>North Side</td>\n",
       "      <td>8.900000</td>\n",
       "    </tr>\n",
       "  </tbody>\n",
       "</table>\n",
       "</div>"
      ],
      "text/plain": [
       "         Neighborhood  Average Rating\n",
       "66    Lower East Side        9.200000\n",
       "79               Noho        9.175000\n",
       "28       East Village        9.125000\n",
       "19        Cobble Hill        9.100000\n",
       "33           Flatiron        9.033333\n",
       "98    Stuyvesant Town        9.000000\n",
       "48  Greenwich Village        9.000000\n",
       "29  East Williamsburg        9.000000\n",
       "43           Gramercy        8.900000\n",
       "80         North Side        8.900000"
      ]
     },
     "execution_count": 44,
     "metadata": {},
     "output_type": "execute_result"
    }
   ],
   "source": [
    "bests_neighborhoods.sort_values(['Average Rating'],ascending=False).head(10)"
   ]
  },
  {
   "cell_type": "code",
   "execution_count": 45,
   "metadata": {},
   "outputs": [],
   "source": [
    "bests_borough=jap_rates.groupby('Borough',as_index=False).mean()[['Borough','Rating']]\n",
    "bests_borough.columns=['Borough','Average Rating']"
   ]
  },
  {
   "cell_type": "code",
   "execution_count": 48,
   "metadata": {},
   "outputs": [
    {
     "data": {
      "text/html": [
       "<div>\n",
       "<style scoped>\n",
       "    .dataframe tbody tr th:only-of-type {\n",
       "        vertical-align: middle;\n",
       "    }\n",
       "\n",
       "    .dataframe tbody tr th {\n",
       "        vertical-align: top;\n",
       "    }\n",
       "\n",
       "    .dataframe thead th {\n",
       "        text-align: right;\n",
       "    }\n",
       "</style>\n",
       "<table border=\"1\" class=\"dataframe\">\n",
       "  <thead>\n",
       "    <tr style=\"text-align: right;\">\n",
       "      <th></th>\n",
       "      <th>Borough</th>\n",
       "      <th>Average Rating</th>\n",
       "    </tr>\n",
       "  </thead>\n",
       "  <tbody>\n",
       "    <tr>\n",
       "      <th>2</th>\n",
       "      <td>Manhattan</td>\n",
       "      <td>8.646939</td>\n",
       "    </tr>\n",
       "    <tr>\n",
       "      <th>1</th>\n",
       "      <td>Brooklyn</td>\n",
       "      <td>7.672131</td>\n",
       "    </tr>\n",
       "    <tr>\n",
       "      <th>0</th>\n",
       "      <td>Bronx</td>\n",
       "      <td>7.500000</td>\n",
       "    </tr>\n",
       "    <tr>\n",
       "      <th>3</th>\n",
       "      <td>Queens</td>\n",
       "      <td>7.195652</td>\n",
       "    </tr>\n",
       "    <tr>\n",
       "      <th>4</th>\n",
       "      <td>Staten Island</td>\n",
       "      <td>5.941176</td>\n",
       "    </tr>\n",
       "  </tbody>\n",
       "</table>\n",
       "</div>"
      ],
      "text/plain": [
       "         Borough  Average Rating\n",
       "2      Manhattan        8.646939\n",
       "1       Brooklyn        7.672131\n",
       "0          Bronx        7.500000\n",
       "3         Queens        7.195652\n",
       "4  Staten Island        5.941176"
      ]
     },
     "execution_count": 48,
     "metadata": {},
     "output_type": "execute_result"
    }
   ],
   "source": [
    "bests_borough.sort_values(['Average Rating'],ascending=False).head()"
   ]
  },
  {
   "cell_type": "code",
   "execution_count": 74,
   "metadata": {},
   "outputs": [
    {
     "data": {
      "image/png": "[encoded data removed]",
      "text/plain": [
       "<Figure size 720x360 with 1 Axes>"
      ]
     },
     "metadata": {
      "needs_background": "light"
     },
     "output_type": "display_data"
    }
   ],
   "source": [
    "plt.figure(figsize=(10,5))\n",
    "plt.title('Average rating of Japanese Resturants for each Borough')\n",
    "plt.xlabel('Borough', fontsize = 15)\n",
    "plt.ylabel('Average Rating', fontsize=15)\n",
    "jap_rates.groupby('Borough').mean()['Rating'].plot(kind='bar')\n",
    "plt.show()"
   ]
  },
  {
   "cell_type": "markdown",
   "metadata": {},
   "source": [
    "#### Manhattan is the borough with the best ratings for japanese restaurant."
   ]
  },
  {
   "cell_type": "code",
   "execution_count": 51,
   "metadata": {},
   "outputs": [
    {
     "data": {
      "text/html": [
       "<div>\n",
       "<style scoped>\n",
       "    .dataframe tbody tr th:only-of-type {\n",
       "        vertical-align: middle;\n",
       "    }\n",
       "\n",
       "    .dataframe tbody tr th {\n",
       "        vertical-align: top;\n",
       "    }\n",
       "\n",
       "    .dataframe thead th {\n",
       "        text-align: right;\n",
       "    }\n",
       "</style>\n",
       "<table border=\"1\" class=\"dataframe\">\n",
       "  <thead>\n",
       "    <tr style=\"text-align: right;\">\n",
       "      <th></th>\n",
       "      <th>Neighborhood</th>\n",
       "      <th>Average Rating</th>\n",
       "    </tr>\n",
       "  </thead>\n",
       "  <tbody>\n",
       "    <tr>\n",
       "      <th>19</th>\n",
       "      <td>Cobble Hill</td>\n",
       "      <td>9.100000</td>\n",
       "    </tr>\n",
       "    <tr>\n",
       "      <th>28</th>\n",
       "      <td>East Village</td>\n",
       "      <td>9.125000</td>\n",
       "    </tr>\n",
       "    <tr>\n",
       "      <th>29</th>\n",
       "      <td>East Williamsburg</td>\n",
       "      <td>9.000000</td>\n",
       "    </tr>\n",
       "    <tr>\n",
       "      <th>33</th>\n",
       "      <td>Flatiron</td>\n",
       "      <td>9.033333</td>\n",
       "    </tr>\n",
       "    <tr>\n",
       "      <th>48</th>\n",
       "      <td>Greenwich Village</td>\n",
       "      <td>9.000000</td>\n",
       "    </tr>\n",
       "    <tr>\n",
       "      <th>66</th>\n",
       "      <td>Lower East Side</td>\n",
       "      <td>9.200000</td>\n",
       "    </tr>\n",
       "    <tr>\n",
       "      <th>79</th>\n",
       "      <td>Noho</td>\n",
       "      <td>9.175000</td>\n",
       "    </tr>\n",
       "    <tr>\n",
       "      <th>98</th>\n",
       "      <td>Stuyvesant Town</td>\n",
       "      <td>9.000000</td>\n",
       "    </tr>\n",
       "  </tbody>\n",
       "</table>\n",
       "</div>"
      ],
      "text/plain": [
       "         Neighborhood  Average Rating\n",
       "19        Cobble Hill        9.100000\n",
       "28       East Village        9.125000\n",
       "29  East Williamsburg        9.000000\n",
       "33           Flatiron        9.033333\n",
       "48  Greenwich Village        9.000000\n",
       "66    Lower East Side        9.200000\n",
       "79               Noho        9.175000\n",
       "98    Stuyvesant Town        9.000000"
      ]
     },
     "execution_count": 51,
     "metadata": {},
     "output_type": "execute_result"
    }
   ],
   "source": [
    "bests_neighborhoods=bests_neighborhoods[bests_neighborhoods['Average Rating']>=9.0]\n",
    "bests_neighborhoods"
   ]
  },
  {
   "cell_type": "markdown",
   "metadata": {},
   "source": [
    "### Let's visualize this in a map"
   ]
  },
  {
   "cell_type": "code",
   "execution_count": 60,
   "metadata": {},
   "outputs": [
    {
     "data": {
      "text/html": [
       "<div>\n",
       "<style scoped>\n",
       "    .dataframe tbody tr th:only-of-type {\n",
       "        vertical-align: middle;\n",
       "    }\n",
       "\n",
       "    .dataframe tbody tr th {\n",
       "        vertical-align: top;\n",
       "    }\n",
       "\n",
       "    .dataframe thead th {\n",
       "        text-align: right;\n",
       "    }\n",
       "</style>\n",
       "<table border=\"1\" class=\"dataframe\">\n",
       "  <thead>\n",
       "    <tr style=\"text-align: right;\">\n",
       "      <th></th>\n",
       "      <th>Borough</th>\n",
       "      <th>Neighborhood</th>\n",
       "      <th>Latitude</th>\n",
       "      <th>Longitude</th>\n",
       "      <th>Average Rating</th>\n",
       "    </tr>\n",
       "  </thead>\n",
       "  <tbody>\n",
       "    <tr>\n",
       "      <th>0</th>\n",
       "      <td>Brooklyn</td>\n",
       "      <td>Cobble Hill</td>\n",
       "      <td>40.687920</td>\n",
       "      <td>-73.998561</td>\n",
       "      <td>9.100000</td>\n",
       "    </tr>\n",
       "    <tr>\n",
       "      <th>1</th>\n",
       "      <td>Manhattan</td>\n",
       "      <td>East Village</td>\n",
       "      <td>40.727847</td>\n",
       "      <td>-73.982226</td>\n",
       "      <td>9.125000</td>\n",
       "    </tr>\n",
       "    <tr>\n",
       "      <th>2</th>\n",
       "      <td>Brooklyn</td>\n",
       "      <td>East Williamsburg</td>\n",
       "      <td>40.708492</td>\n",
       "      <td>-73.938858</td>\n",
       "      <td>9.000000</td>\n",
       "    </tr>\n",
       "    <tr>\n",
       "      <th>3</th>\n",
       "      <td>Manhattan</td>\n",
       "      <td>Flatiron</td>\n",
       "      <td>40.739673</td>\n",
       "      <td>-73.990947</td>\n",
       "      <td>9.033333</td>\n",
       "    </tr>\n",
       "    <tr>\n",
       "      <th>4</th>\n",
       "      <td>Manhattan</td>\n",
       "      <td>Greenwich Village</td>\n",
       "      <td>40.726933</td>\n",
       "      <td>-73.999914</td>\n",
       "      <td>9.000000</td>\n",
       "    </tr>\n",
       "    <tr>\n",
       "      <th>5</th>\n",
       "      <td>Manhattan</td>\n",
       "      <td>Lower East Side</td>\n",
       "      <td>40.717807</td>\n",
       "      <td>-73.980890</td>\n",
       "      <td>9.200000</td>\n",
       "    </tr>\n",
       "    <tr>\n",
       "      <th>6</th>\n",
       "      <td>Manhattan</td>\n",
       "      <td>Noho</td>\n",
       "      <td>40.723259</td>\n",
       "      <td>-73.988434</td>\n",
       "      <td>9.175000</td>\n",
       "    </tr>\n",
       "    <tr>\n",
       "      <th>7</th>\n",
       "      <td>Manhattan</td>\n",
       "      <td>Stuyvesant Town</td>\n",
       "      <td>40.731000</td>\n",
       "      <td>-73.974052</td>\n",
       "      <td>9.000000</td>\n",
       "    </tr>\n",
       "  </tbody>\n",
       "</table>\n",
       "</div>"
      ],
      "text/plain": [
       "     Borough       Neighborhood   Latitude  Longitude  Average Rating\n",
       "0   Brooklyn        Cobble Hill  40.687920 -73.998561        9.100000\n",
       "1  Manhattan       East Village  40.727847 -73.982226        9.125000\n",
       "2   Brooklyn  East Williamsburg  40.708492 -73.938858        9.000000\n",
       "3  Manhattan           Flatiron  40.739673 -73.990947        9.033333\n",
       "4  Manhattan  Greenwich Village  40.726933 -73.999914        9.000000\n",
       "5  Manhattan    Lower East Side  40.717807 -73.980890        9.200000\n",
       "6  Manhattan               Noho  40.723259 -73.988434        9.175000\n",
       "7  Manhattan    Stuyvesant Town  40.731000 -73.974052        9.000000"
      ]
     },
     "execution_count": 60,
     "metadata": {},
     "output_type": "execute_result"
    }
   ],
   "source": [
    "bests_neighborhoods=pd.merge(bests_neighborhoods,NY_neighborhoods, on='Neighborhood')\n",
    "bests_neighborhoods1=bests_neighborhoods[['Borough','Neighborhood','Latitude','Longitude','Average Rating']]\n",
    "bests_neighborhoods1"
   ]
  },
  {
   "cell_type": "code",
   "execution_count": 61,
   "metadata": {},
   "outputs": [
    {
     "data": {
      "text/html": [
       "<div>\n",
       "<style scoped>\n",
       "    .dataframe tbody tr th:only-of-type {\n",
       "        vertical-align: middle;\n",
       "    }\n",
       "\n",
       "    .dataframe tbody tr th {\n",
       "        vertical-align: top;\n",
       "    }\n",
       "\n",
       "    .dataframe thead th {\n",
       "        text-align: right;\n",
       "    }\n",
       "</style>\n",
       "<table border=\"1\" class=\"dataframe\">\n",
       "  <thead>\n",
       "    <tr style=\"text-align: right;\">\n",
       "      <th></th>\n",
       "      <th>Borough</th>\n",
       "      <th>Neighborhood</th>\n",
       "      <th>Latitude</th>\n",
       "      <th>Longitude</th>\n",
       "      <th>Average Rating</th>\n",
       "    </tr>\n",
       "  </thead>\n",
       "  <tbody>\n",
       "    <tr>\n",
       "      <th>5</th>\n",
       "      <td>Manhattan</td>\n",
       "      <td>Lower East Side</td>\n",
       "      <td>40.717807</td>\n",
       "      <td>-73.980890</td>\n",
       "      <td>9.200000</td>\n",
       "    </tr>\n",
       "    <tr>\n",
       "      <th>6</th>\n",
       "      <td>Manhattan</td>\n",
       "      <td>Noho</td>\n",
       "      <td>40.723259</td>\n",
       "      <td>-73.988434</td>\n",
       "      <td>9.175000</td>\n",
       "    </tr>\n",
       "    <tr>\n",
       "      <th>1</th>\n",
       "      <td>Manhattan</td>\n",
       "      <td>East Village</td>\n",
       "      <td>40.727847</td>\n",
       "      <td>-73.982226</td>\n",
       "      <td>9.125000</td>\n",
       "    </tr>\n",
       "    <tr>\n",
       "      <th>0</th>\n",
       "      <td>Brooklyn</td>\n",
       "      <td>Cobble Hill</td>\n",
       "      <td>40.687920</td>\n",
       "      <td>-73.998561</td>\n",
       "      <td>9.100000</td>\n",
       "    </tr>\n",
       "    <tr>\n",
       "      <th>3</th>\n",
       "      <td>Manhattan</td>\n",
       "      <td>Flatiron</td>\n",
       "      <td>40.739673</td>\n",
       "      <td>-73.990947</td>\n",
       "      <td>9.033333</td>\n",
       "    </tr>\n",
       "    <tr>\n",
       "      <th>2</th>\n",
       "      <td>Brooklyn</td>\n",
       "      <td>East Williamsburg</td>\n",
       "      <td>40.708492</td>\n",
       "      <td>-73.938858</td>\n",
       "      <td>9.000000</td>\n",
       "    </tr>\n",
       "    <tr>\n",
       "      <th>4</th>\n",
       "      <td>Manhattan</td>\n",
       "      <td>Greenwich Village</td>\n",
       "      <td>40.726933</td>\n",
       "      <td>-73.999914</td>\n",
       "      <td>9.000000</td>\n",
       "    </tr>\n",
       "    <tr>\n",
       "      <th>7</th>\n",
       "      <td>Manhattan</td>\n",
       "      <td>Stuyvesant Town</td>\n",
       "      <td>40.731000</td>\n",
       "      <td>-73.974052</td>\n",
       "      <td>9.000000</td>\n",
       "    </tr>\n",
       "  </tbody>\n",
       "</table>\n",
       "</div>"
      ],
      "text/plain": [
       "     Borough       Neighborhood   Latitude  Longitude  Average Rating\n",
       "5  Manhattan    Lower East Side  40.717807 -73.980890        9.200000\n",
       "6  Manhattan               Noho  40.723259 -73.988434        9.175000\n",
       "1  Manhattan       East Village  40.727847 -73.982226        9.125000\n",
       "0   Brooklyn        Cobble Hill  40.687920 -73.998561        9.100000\n",
       "3  Manhattan           Flatiron  40.739673 -73.990947        9.033333\n",
       "2   Brooklyn  East Williamsburg  40.708492 -73.938858        9.000000\n",
       "4  Manhattan  Greenwich Village  40.726933 -73.999914        9.000000\n",
       "7  Manhattan    Stuyvesant Town  40.731000 -73.974052        9.000000"
      ]
     },
     "execution_count": 61,
     "metadata": {},
     "output_type": "execute_result"
    }
   ],
   "source": [
    "bests_neighborhoods1.sort_values(['Average Rating'],ascending=False)"
   ]
  },
  {
   "cell_type": "code",
   "execution_count": 67,
   "metadata": {},
   "outputs": [
    {
     "name": "stdout",
     "output_type": "stream",
     "text": [
      "The geograpical coordinate of New York are 40.7127281, -74.0060152.\n"
     ]
    }
   ],
   "source": [
    "address = 'New York , NY'\n",
    "\n",
    "geolocator = Nominatim(user_agent=\"ny_explorer\")\n",
    "location = geolocator.geocode(address)\n",
    "latitude = location.latitude\n",
    "longitude = location.longitude\n",
    "print('The geograpical coordinate of New York are {}, {}.'.format(latitude, longitude))\n"
   ]
  },
  {
   "cell_type": "code",
   "execution_count": 73,
   "metadata": {},
   "outputs": [
    {
     "data": {
      "text/html": [
       "<div style=\"width:100%;\"><div style=\"position:relative;width:100%;height:0;padding-bottom:60%;\"><iframe src=\"about:blank\" style=\"position:absolute;width:100%;height:100%;left:0;top:0;border:none !important;\" data-html=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 onload=\"this.contentDocument.open();this.contentDocument.write(atob(this.getAttribute('data-html')));this.contentDocument.close();\" allowfullscreen webkitallowfullscreen mozallowfullscreen></iframe></div></div>"
      ],
      "text/plain": [
       "<folium.folium.Map at 0x7f4215ff4860>"
      ]
     },
     "execution_count": 73,
     "metadata": {},
     "output_type": "execute_result"
    }
   ],
   "source": [
    "ny_map = folium.Map(location=[latitude, longitude], zoom_start=12)\n",
    "\n",
    "# add markers to map\n",
    "for lat, lng, borough, neighborhood,avg_ratings in zip(bests_neighborhoods1['Latitude'], bests_neighborhoods1['Longitude'], bests_neighborhoods1['Borough'], bests_neighborhoods1['Neighborhood'],bests_neighborhoods1['Average Rating']):\n",
    "    label = '{}, {}, {}'.format(neighborhood, borough,avg_ratings)\n",
    "    label = folium.Popup(label, parse_html=True)\n",
    "    folium.CircleMarker(\n",
    "        [lat, lng],\n",
    "        radius=5,\n",
    "        popup=label,\n",
    "        color='blue',\n",
    "        fill=True,\n",
    "        fill_color='#3186cc',\n",
    "        fill_opacity=0.7,\n",
    "        parse_html=False).add_to(ny_map)  \n",
    "    \n",
    "ny_map"
   ]
  }
 ],
 "metadata": {
  "kernelspec": {
   "display_name": "Python 3.6 with Spark",
   "language": "python3",
   "name": "python36"
  },
  "language_info": {
   "codemirror_mode": {
    "name": "ipython",
    "version": 3
   },
   "file_extension": ".py",
   "mimetype": "text/x-python",
   "name": "python",
   "nbconvert_exporter": "python",
   "pygments_lexer": "ipython3",
   "version": "3.6.8"
  }
 },
 "nbformat": 4,
 "nbformat_minor": 1
}
